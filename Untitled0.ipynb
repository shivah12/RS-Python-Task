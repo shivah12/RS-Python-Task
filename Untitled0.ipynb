{
  "nbformat": 4,
  "nbformat_minor": 0,
  "metadata": {
    "colab": {
      "provenance": [],
      "authorship_tag": "ABX9TyM84BzYsblft/cQGmHBg4yy",
      "include_colab_link": true
    },
    "kernelspec": {
      "name": "python3",
      "display_name": "Python 3"
    },
    "language_info": {
      "name": "python"
    }
  },
  "cells": [
    {
      "cell_type": "markdown",
      "metadata": {
        "id": "view-in-github",
        "colab_type": "text"
      },
      "source": [
        "<a href=\"https://colab.research.google.com/github/HIMANSUsekharBaral/RS-Python-Task/blob/main/Untitled0.ipynb\" target=\"_parent\"><img src=\"https://colab.research.google.com/assets/colab-badge.svg\" alt=\"Open In Colab\"/></a>"
      ]
    },
    {
      "cell_type": "code",
      "execution_count": null,
      "metadata": {
        "id": "hxfM0lo7Gq_1"
      },
      "outputs": [],
      "source": []
    },
    {
      "cell_type": "markdown",
      "source": [
        "question no 1"
      ],
      "metadata": {
        "id": "p2TXQ1m_Mx1F"
      }
    },
    {
      "cell_type": "code",
      "source": [
        "s= input(\"enter the string s:\")\n",
        "t = input(\"enter the string t :\")\n",
        "s1=s.lower()\n",
        "t1=t.lower()\n",
        "print(s1)\n",
        "print(t1)\n",
        "if (sorted(s1)==sorted(t1)):\n",
        "  print(\"they are anagrams\")\n",
        "else:\n",
        "    print(\"they are not anagrams\")\n",
        "\n"
      ],
      "metadata": {
        "colab": {
          "base_uri": "https://localhost:8080/"
        },
        "id": "M32PQxsfHfLT",
        "outputId": "078e9e7c-f3ac-4ee2-b8c0-ac0a42ad52bc"
      },
      "execution_count": 4,
      "outputs": [
        {
          "output_type": "stream",
          "name": "stdout",
          "text": [
            "enter the string s:poilice\n",
            "enter the string t :listen\n",
            "poilice\n",
            "listen\n",
            "they are not anagrams\n"
          ]
        }
      ]
    },
    {
      "cell_type": "markdown",
      "source": [],
      "metadata": {
        "id": "zBCr7oCqLTi9"
      }
    },
    {
      "cell_type": "markdown",
      "source": [
        "question no 8"
      ],
      "metadata": {
        "id": "hg8i1z69QvCi"
      }
    },
    {
      "cell_type": "markdown",
      "source": [],
      "metadata": {
        "id": "yhiMbdVkMwyQ"
      }
    },
    {
      "cell_type": "code",
      "source": [
        "l=int(input(\"enter the no of element:\"))\n",
        "lis=[]\n",
        "for i in range (0,l):\n",
        "    ele=input(\"enter the element:\")\n",
        "    lis.append(ele)\n",
        "print(lis)\n",
        "key=[]\n",
        "for i in range(0,l):\n",
        "    element=lis[i]\n",
        "    key.append(element)\n",
        "print(key)\n",
        "value=[]\n",
        "for i in range(0,l):\n",
        "    k=lis.count(lis[i])\n",
        "    value.append(k)\n",
        "d={i:j for (i,j) in zip(key,value)}\n",
        "print(\"the dictionary is :\",d)"
      ],
      "metadata": {
        "colab": {
          "base_uri": "https://localhost:8080/"
        },
        "id": "AgdiKzMtIpSh",
        "outputId": "6ba7a5c4-9cd1-47ac-a76e-0bc03600dbe9"
      },
      "execution_count": 7,
      "outputs": [
        {
          "output_type": "stream",
          "name": "stdout",
          "text": [
            "enter the no of element:3\n",
            "enter the element:8\n",
            "enter the element:8\n",
            "enter the element:9\n",
            "['8', '8', '9']\n",
            "['8', '8', '9']\n",
            "the dictionary is : {'8': 2, '9': 1}\n"
          ]
        }
      ]
    },
    {
      "cell_type": "markdown",
      "source": [],
      "metadata": {
        "id": "h5jPyh8WLR-7"
      }
    }
  ]
}